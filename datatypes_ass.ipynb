{
  "nbformat": 4,
  "nbformat_minor": 0,
  "metadata": {
    "colab": {
      "provenance": [],
      "authorship_tag": "ABX9TyPyeq9mo4fecqhOSy75vlpt",
      "include_colab_link": true
    },
    "kernelspec": {
      "name": "python3",
      "display_name": "Python 3"
    },
    "language_info": {
      "name": "python"
    }
  },
  "cells": [
    {
      "cell_type": "markdown",
      "metadata": {
        "id": "view-in-github",
        "colab_type": "text"
      },
      "source": [
        "<a href=\"https://colab.research.google.com/github/Lokkee6911/Pwskills-assingments/blob/main/datatypes_ass.ipynb\" target=\"_parent\"><img src=\"https://colab.research.google.com/assets/colab-badge.svg\" alt=\"Open In Colab\"/></a>"
      ]
    },
    {
      "cell_type": "code",
      "execution_count": null,
      "metadata": {
        "id": "K0imHUupl3Mi"
      },
      "outputs": [],
      "source": []
    },
    {
      "cell_type": "markdown",
      "source": [
        "# ----------------------- THEORY ANSWERS -----------------------\n",
        "# 1 What are data structures, and why are they important?\n",
        "\"\"\"Data structures are specialized formats for organizing, processing, retrieving, and storing data. They help in efficient data management and are crucial in optimizing algorithms.\"\"\"\n"
      ],
      "metadata": {
        "id": "GPZ1a0Fkl9Fr"
      }
    },
    {
      "cell_type": "markdown",
      "source": [
        "# 2  Explain the difference between mutable and immutable data types with examples?\n",
        "\"\"\"Mutable data types can be changed after creation (e.g., list, dict).\n",
        "\n",
        "Immutable types cannot be changed (e.g., tuple, str).\n",
        "Example:\n",
        "list1 = [1, 2]  # Mutable\n",
        "str1 = \"hello\"  # Immutable\"\"\""
      ],
      "metadata": {
        "id": "7DxZ1JtXl9Vn"
      }
    },
    {
      "cell_type": "markdown",
      "source": [
        "# 3 What are the main differences between lists and tuples in Python?\n",
        "\"\"\"Lists are mutable and use more memory. Tuples are immutable and use less memory.\n",
        "Ex: list1 = [1, 2], tuple1 = (1, 2)\"\"\"\n"
      ],
      "metadata": {
        "id": "wjajW8bhl9hc"
      }
    },
    {
      "cell_type": "markdown",
      "source": [
        "# 4 Describe how dictionaries store data?\n",
        "\"\"\"Dictionaries store data as key-value pairs using a hash table.\"\"\""
      ],
      "metadata": {
        "id": "1fpUVbMMl9wd"
      }
    },
    {
      "cell_type": "markdown",
      "source": [
        "# 5 Why might you use a set instead of a list in Python?\n",
        "\"\"\"Sets remove duplicates automatically and offer faster membership tests than lists.\"\"\""
      ],
      "metadata": {
        "id": "ETB8TJjtnQqL"
      }
    },
    {
      "cell_type": "markdown",
      "source": [
        "# 6 What is a string in Python, and how is it different from a list?\n",
        "\"\"\"Strings are immutable sequences of characters; lists are mutable sequences of any data types.\"\"\"\n"
      ],
      "metadata": {
        "id": "3qkU-D8lnkz7"
      }
    },
    {
      "cell_type": "markdown",
      "source": [
        "# 7 How do tuples ensure data integrity in Python?\n",
        "\"\"\"Tuples are immutable, so their data can’t be changed—ensuring consistency and integrity.\"\"\"\n"
      ],
      "metadata": {
        "id": "cYyNXE6Xnlkc"
      }
    },
    {
      "cell_type": "markdown",
      "source": [
        "# 8 What is a hash table, and how does it relate to dictionaries in Python?\n",
        "\"\"\"A hash table is a data structure that maps keys to values using a hash function. Dictionaries use hash tables internally.\"\"\"\n"
      ],
      "metadata": {
        "id": "7lF6M-IwnmCS"
      }
    },
    {
      "cell_type": "markdown",
      "source": [
        "# 9 Can lists contain different data types in Python?\n",
        "\"\"\"Yes, Python lists can store mixed data types. Example: [1, 'hello', 3.14]\"\"\"\n"
      ],
      "metadata": {
        "id": "DLLbxGH8nmcs"
      }
    },
    {
      "cell_type": "markdown",
      "source": [
        " # 10 Explain why strings are immutable in Python?\n",
        "\n",
        "\"\"\"Strings are immutable for memory optimization, thread safety, and because string literals are reused (interned).\"\"\"\n"
      ],
      "metadata": {
        "id": "4d3St8L6nm3D"
      }
    },
    {
      "cell_type": "markdown",
      "source": [
        "# 11 What advantages do dictionaries offer over lists for certain tasks?\n",
        "\"\"\"Dictionaries allow quick lookups and are best when you need key-based access, unlike lists which are index-based.\"\"\"\n"
      ],
      "metadata": {
        "id": "EyoPpowBnnSD"
      }
    },
    {
      "cell_type": "markdown",
      "source": [
        "# 12 Describe a scenario where using a tuple would be preferable over a list?\n",
        "\"\"\"Tuples are preferred when data should not change, like ('latitude', 'longitude') or configuration values.\"\"\"\n"
      ],
      "metadata": {
        "id": "nFFseRKDnnq2"
      }
    },
    {
      "cell_type": "markdown",
      "source": [
        "# 13 How do sets handle duplicate values in Python?\n",
        "\n",
        "\"\"\"Sets discard duplicate values automatically.\"\"\"\n"
      ],
      "metadata": {
        "id": "fKyobyVxnoJ6"
      }
    },
    {
      "cell_type": "code",
      "source": [
        "# 14 How does the “in” keyword work differently for lists and dictionaries?\n",
        "\"\"\"In lists, 'in' checks value. In dictionaries, it checks the presence of keys only.\"\"\"\n",
        "\n"
      ],
      "metadata": {
        "colab": {
          "base_uri": "https://localhost:8080/",
          "height": 35
        },
        "id": "nqKsyEwBp5N9",
        "outputId": "045f5704-7d8a-4260-9618-8eb56d4e5bba"
      },
      "execution_count": 1,
      "outputs": [
        {
          "output_type": "execute_result",
          "data": {
            "text/plain": [
              "\"In lists, 'in' checks value. In dictionaries, it checks the presence of keys only.\""
            ],
            "application/vnd.google.colaboratory.intrinsic+json": {
              "type": "string"
            }
          },
          "metadata": {},
          "execution_count": 1
        }
      ]
    },
    {
      "cell_type": "code",
      "source": [],
      "metadata": {
        "id": "kY0xWYVhqmFO"
      },
      "execution_count": null,
      "outputs": []
    },
    {
      "cell_type": "markdown",
      "source": [
        "# 15 Can you modify the elements of a tuple? Explain why or why not?\n",
        "\"\"\"No, tuples are immutable—you cannot change their content after creation.\"\"\""
      ],
      "metadata": {
        "id": "2cepH0Z6qvK_"
      }
    },
    {
      "cell_type": "markdown",
      "source": [
        "# 16 What is a nested dictionary, and give an example of its use case?\n",
        "\"\"\"Nested dictionary: A dictionary within a dictionary.\n",
        "Example: data = {'student': {'name': 'A', 'age': 22}}\"\"\""
      ],
      "metadata": {
        "id": "od5m5h_iqvGk"
      }
    },
    {
      "cell_type": "markdown",
      "source": [
        "# 17 Describe the time complexity of accessing elements in a dictionary\n",
        "\"\"\"Average time complexity to access an element in a dictionary is O(1) due to hashing.\"\"\"\n"
      ],
      "metadata": {
        "id": "R0wJ98sXqvCN"
      }
    },
    {
      "cell_type": "markdown",
      "source": [
        "# 18  In what situations are lists preferred over dictionaries?\n",
        "\"\"\"Lists are better when data is ordered and position-based access is needed.\"\"\"\n"
      ],
      "metadata": {
        "id": "IvQge0ELqu-E"
      }
    },
    {
      "cell_type": "markdown",
      "source": [
        "# 19 Why are dictionaries considered unordered, and how does that affect data retrieval?\n",
        "\"\"\"Historically, dicts were unordered (pre-3.7). Now they maintain order, but this behavior shouldn't be relied upon strictly.\"\"\"\n"
      ],
      "metadata": {
        "id": "VIdyNyXcqu6K"
      }
    },
    {
      "cell_type": "markdown",
      "source": [
        "# 20 Explain the difference between a list and a dictionary in terms of data retrieval.\n",
        "\"\"\"Lists retrieve by index; dictionaries retrieve by key.\"\"\"\n",
        "\n"
      ],
      "metadata": {
        "id": "R1ccAUzbqu1-"
      }
    },
    {
      "cell_type": "markdown",
      "source": [
        "# Practicle Questions\n"
      ],
      "metadata": {
        "id": "ypRJ-qH1quyB"
      }
    },
    {
      "cell_type": "code",
      "source": [
        "# 1\n",
        "print(\"Loukesh\")\n",
        "\n"
      ],
      "metadata": {
        "colab": {
          "base_uri": "https://localhost:8080/"
        },
        "id": "R1NG6uFrr8EE",
        "outputId": "f10a5ed5-2c37-47c4-e8c6-f817e1fb6ef0"
      },
      "execution_count": 2,
      "outputs": [
        {
          "output_type": "stream",
          "name": "stdout",
          "text": [
            "Loukesh\n"
          ]
        }
      ]
    },
    {
      "cell_type": "markdown",
      "source": [
        "# 2\n",
        "print(len(\"Hello World\"))\n",
        "\n"
      ],
      "metadata": {
        "id": "mi2rWt--quuE"
      }
    },
    {
      "cell_type": "markdown",
      "source": [
        "# 3\n",
        "print(\"Python Programming\"[:3])\n"
      ],
      "metadata": {
        "id": "oJDzbFmFquqc"
      }
    },
    {
      "cell_type": "code",
      "source": [
        "\n",
        "# 4\n",
        "print(\"hello\".upper())\n"
      ],
      "metadata": {
        "colab": {
          "base_uri": "https://localhost:8080/"
        },
        "id": "0wI1OS1QsREE",
        "outputId": "90d6a798-b79e-4217-cb01-fb97a0c7a101"
      },
      "execution_count": 3,
      "outputs": [
        {
          "output_type": "stream",
          "name": "stdout",
          "text": [
            "HELLO\n"
          ]
        }
      ]
    },
    {
      "cell_type": "code",
      "source": [
        "\n",
        "# 5\n",
        "print(\"I like apple\".replace(\"apple\", \"orange\"))"
      ],
      "metadata": {
        "colab": {
          "base_uri": "https://localhost:8080/"
        },
        "id": "3NWkvCkJsRAg",
        "outputId": "4a1cf9a0-05cb-4e27-eca9-07ee730a76c9"
      },
      "execution_count": 4,
      "outputs": [
        {
          "output_type": "stream",
          "name": "stdout",
          "text": [
            "I like orange\n"
          ]
        }
      ]
    },
    {
      "cell_type": "code",
      "source": [
        "# 6\n",
        "print(list(range(1, 6)))\n",
        "\n"
      ],
      "metadata": {
        "colab": {
          "base_uri": "https://localhost:8080/"
        },
        "id": "TshefjT9sQ9f",
        "outputId": "9e6e99d2-ba9e-4073-d25e-e933e0fa074e"
      },
      "execution_count": 5,
      "outputs": [
        {
          "output_type": "stream",
          "name": "stdout",
          "text": [
            "[1, 2, 3, 4, 5]\n"
          ]
        }
      ]
    },
    {
      "cell_type": "code",
      "source": [
        "# 7\n",
        "lst = [1, 2, 3, 4]\n",
        "lst.append(10)\n",
        "print(lst)\n",
        "\n"
      ],
      "metadata": {
        "colab": {
          "base_uri": "https://localhost:8080/"
        },
        "id": "Ls5VEATpsQ6m",
        "outputId": "9ae9327b-f328-4f1b-c2f3-89738d5adb22"
      },
      "execution_count": 6,
      "outputs": [
        {
          "output_type": "stream",
          "name": "stdout",
          "text": [
            "[1, 2, 3, 4, 10]\n"
          ]
        }
      ]
    },
    {
      "cell_type": "code",
      "source": [
        "# 8\n",
        "lst = [1, 2, 3, 4, 5]\n",
        "lst.remove(3)\n",
        "print(lst)\n",
        "\n"
      ],
      "metadata": {
        "colab": {
          "base_uri": "https://localhost:8080/"
        },
        "id": "GofJ9U2asQ3i",
        "outputId": "d1fd05ac-afdb-4c58-b8e4-375557d73b21"
      },
      "execution_count": 7,
      "outputs": [
        {
          "output_type": "stream",
          "name": "stdout",
          "text": [
            "[1, 2, 4, 5]\n"
          ]
        }
      ]
    },
    {
      "cell_type": "code",
      "source": [
        "# 9\n",
        "print(['a', 'b', 'c', 'd'][1])\n",
        "\n"
      ],
      "metadata": {
        "colab": {
          "base_uri": "https://localhost:8080/"
        },
        "id": "Ar2YU8oCsQ0g",
        "outputId": "b03e76ff-7d30-4589-c0a0-5f5b6be352d0"
      },
      "execution_count": 9,
      "outputs": [
        {
          "output_type": "stream",
          "name": "stdout",
          "text": [
            "b\n"
          ]
        }
      ]
    },
    {
      "cell_type": "code",
      "source": [
        "# 10\n",
        "lst = [10, 20, 30, 40, 50]\n",
        "lst.reverse()\n",
        "print(lst)"
      ],
      "metadata": {
        "colab": {
          "base_uri": "https://localhost:8080/"
        },
        "id": "1dmeaz0CsQxQ",
        "outputId": "a93f4e3a-1363-4a2b-ab69-d2c96766e92a"
      },
      "execution_count": 8,
      "outputs": [
        {
          "output_type": "stream",
          "name": "stdout",
          "text": [
            "[50, 40, 30, 20, 10]\n"
          ]
        }
      ]
    },
    {
      "cell_type": "code",
      "source": [
        "# 11\n",
        "print((100, 200, 300))\n",
        "\n"
      ],
      "metadata": {
        "colab": {
          "base_uri": "https://localhost:8080/"
        },
        "id": "IsWsqfldsQuO",
        "outputId": "3bba9f3d-28d4-4d76-9d1b-9e02b53183ed"
      },
      "execution_count": 10,
      "outputs": [
        {
          "output_type": "stream",
          "name": "stdout",
          "text": [
            "(100, 200, 300)\n"
          ]
        }
      ]
    },
    {
      "cell_type": "code",
      "source": [
        "# 12\n",
        "tuple_colors = ('red', 'green', 'blue', 'yellow')\n",
        "print(tuple_colors[-2])\n"
      ],
      "metadata": {
        "colab": {
          "base_uri": "https://localhost:8080/"
        },
        "id": "mOgHpHaysQrF",
        "outputId": "c0981219-cd96-42fd-ef2b-8fbd2353dcd2"
      },
      "execution_count": 11,
      "outputs": [
        {
          "output_type": "stream",
          "name": "stdout",
          "text": [
            "blue\n"
          ]
        }
      ]
    },
    {
      "cell_type": "code",
      "source": [
        "\n",
        "# 13\n",
        "print(min((10, 20, 5, 15)))\n",
        "\n"
      ],
      "metadata": {
        "colab": {
          "base_uri": "https://localhost:8080/"
        },
        "id": "SonVOTuHsQoC",
        "outputId": "2a04003b-3b9d-4454-85a6-84189b6affd6"
      },
      "execution_count": 12,
      "outputs": [
        {
          "output_type": "stream",
          "name": "stdout",
          "text": [
            "5\n"
          ]
        }
      ]
    },
    {
      "cell_type": "code",
      "source": [
        "# 14\n",
        "print(('dog', 'cat', 'rabbit').index('cat'))\n",
        "\n"
      ],
      "metadata": {
        "colab": {
          "base_uri": "https://localhost:8080/"
        },
        "id": "UXLB_r3osQk3",
        "outputId": "459094c6-0619-4574-918c-372deb4c5883"
      },
      "execution_count": 13,
      "outputs": [
        {
          "output_type": "stream",
          "name": "stdout",
          "text": [
            "1\n"
          ]
        }
      ]
    },
    {
      "cell_type": "code",
      "source": [
        "# 15\n",
        "tuple_fruits = ('apple', 'banana', 'mango')\n",
        "print(\"kiwi\" in tuple_fruits)\n",
        "\n"
      ],
      "metadata": {
        "colab": {
          "base_uri": "https://localhost:8080/"
        },
        "id": "D1XTr2ePsQhe",
        "outputId": "09eacde3-e556-4de4-ac2b-8f7cf3107e61"
      },
      "execution_count": 15,
      "outputs": [
        {
          "output_type": "stream",
          "name": "stdout",
          "text": [
            "False\n"
          ]
        }
      ]
    },
    {
      "cell_type": "code",
      "source": [
        "# 16\n",
        "print(set(['a', 'b', 'c']))\n"
      ],
      "metadata": {
        "colab": {
          "base_uri": "https://localhost:8080/"
        },
        "id": "nB02MX8OsQeE",
        "outputId": "951f300f-10d8-4cbb-91e4-428b26a7830f"
      },
      "execution_count": 14,
      "outputs": [
        {
          "output_type": "stream",
          "name": "stdout",
          "text": [
            "{'c', 'a', 'b'}\n"
          ]
        }
      ]
    },
    {
      "cell_type": "code",
      "source": [
        "# 17\n",
        "s = {1, 2, 3, 4, 5}\n",
        "s.clear()\n",
        "print(s)\n",
        "\n"
      ],
      "metadata": {
        "colab": {
          "base_uri": "https://localhost:8080/"
        },
        "id": "rppi_q4WsQaf",
        "outputId": "5a343a9e-ff5a-4b2b-e950-328f31b65259"
      },
      "execution_count": 16,
      "outputs": [
        {
          "output_type": "stream",
          "name": "stdout",
          "text": [
            "set()\n"
          ]
        }
      ]
    },
    {
      "cell_type": "code",
      "source": [
        "# 18\n",
        "s = {1, 2, 3, 4}\n",
        "s.remove(4)\n",
        "print(s)\n",
        "\n"
      ],
      "metadata": {
        "colab": {
          "base_uri": "https://localhost:8080/"
        },
        "id": "0QkA0ma6sQXh",
        "outputId": "4f1e2a18-92bf-48aa-bea2-0f4466efd8cd"
      },
      "execution_count": 17,
      "outputs": [
        {
          "output_type": "stream",
          "name": "stdout",
          "text": [
            "{1, 2, 3}\n"
          ]
        }
      ]
    },
    {
      "cell_type": "code",
      "source": [
        "# 19\n",
        "s1 = {1, 2, 3}\n",
        "s2 = {3, 4, 5}\n",
        "print(s1.union(s2))\n"
      ],
      "metadata": {
        "colab": {
          "base_uri": "https://localhost:8080/"
        },
        "id": "33Gm2AuvsQUV",
        "outputId": "b2ad7be8-a8d1-48b2-d011-d8f242164f94"
      },
      "execution_count": 18,
      "outputs": [
        {
          "output_type": "stream",
          "name": "stdout",
          "text": [
            "{1, 2, 3, 4, 5}\n"
          ]
        }
      ]
    },
    {
      "cell_type": "code",
      "source": [
        "\n",
        "# 20\n",
        "print({1, 2, 3}.intersection({2, 3, 4}))\n"
      ],
      "metadata": {
        "colab": {
          "base_uri": "https://localhost:8080/"
        },
        "id": "PKYf5oFfsQRV",
        "outputId": "1c1f2319-5dc6-45a1-a7ac-99db233f2a19"
      },
      "execution_count": 19,
      "outputs": [
        {
          "output_type": "stream",
          "name": "stdout",
          "text": [
            "{2, 3}\n"
          ]
        }
      ]
    },
    {
      "cell_type": "code",
      "source": [
        "\n",
        "# 21\n",
        "d = {\"name\": \"John\", \"age\": 30, \"city\": \"NY\"}\n",
        "print(d)\n",
        "\n"
      ],
      "metadata": {
        "colab": {
          "base_uri": "https://localhost:8080/"
        },
        "id": "qz-7OAbJsQOX",
        "outputId": "073d236f-9ddc-46fb-995c-efca57975289"
      },
      "execution_count": 20,
      "outputs": [
        {
          "output_type": "stream",
          "name": "stdout",
          "text": [
            "{'name': 'John', 'age': 30, 'city': 'NY'}\n"
          ]
        }
      ]
    },
    {
      "cell_type": "code",
      "source": [
        "# 22\n",
        "d = {'name': 'John', 'age': 25}\n",
        "d['country'] = 'USA'\n",
        "print(d)\n"
      ],
      "metadata": {
        "colab": {
          "base_uri": "https://localhost:8080/"
        },
        "id": "vb9_ykGQsQLY",
        "outputId": "c767ab98-a957-4289-ec42-32b5f14dfac9"
      },
      "execution_count": 21,
      "outputs": [
        {
          "output_type": "stream",
          "name": "stdout",
          "text": [
            "{'name': 'John', 'age': 25, 'country': 'USA'}\n"
          ]
        }
      ]
    },
    {
      "cell_type": "code",
      "source": [
        "\n",
        "# 23\n",
        "d = {'name': 'Alice', 'age': 30}\n",
        "print(d['name'])\n",
        "\n"
      ],
      "metadata": {
        "colab": {
          "base_uri": "https://localhost:8080/"
        },
        "id": "16Qq6kxVsQIO",
        "outputId": "d3974fde-4ca9-4588-9a89-ee8a31facb7f"
      },
      "execution_count": 22,
      "outputs": [
        {
          "output_type": "stream",
          "name": "stdout",
          "text": [
            "Alice\n"
          ]
        }
      ]
    },
    {
      "cell_type": "code",
      "source": [
        "# 24\n",
        "d = {'name': 'Bob', 'age': 22, 'city': 'New York'}\n",
        "d.pop('age')\n",
        "print(d)\n"
      ],
      "metadata": {
        "colab": {
          "base_uri": "https://localhost:8080/"
        },
        "id": "gD8BEoEAsQFQ",
        "outputId": "9449bf37-2999-4e5f-c44f-20c9c0caf4dc"
      },
      "execution_count": 23,
      "outputs": [
        {
          "output_type": "stream",
          "name": "stdout",
          "text": [
            "{'name': 'Bob', 'city': 'New York'}\n"
          ]
        }
      ]
    },
    {
      "cell_type": "code",
      "source": [
        "\n",
        "# 25\n",
        "d = {'name': 'Alice', 'city': 'Paris'}\n",
        "print('city' in d)\n"
      ],
      "metadata": {
        "colab": {
          "base_uri": "https://localhost:8080/"
        },
        "id": "jFYhj80-sQCH",
        "outputId": "9744d3d2-6299-4de6-d7a6-b35729bcb639"
      },
      "execution_count": 24,
      "outputs": [
        {
          "output_type": "stream",
          "name": "stdout",
          "text": [
            "True\n"
          ]
        }
      ]
    },
    {
      "cell_type": "code",
      "source": [
        "\n",
        "# 26\n",
        "lst = [1, 2, 3]\n",
        "tup = (4, 5, 6)\n",
        "dct = {'a': 1, 'b': 2}\n",
        "print(lst, tup, dct)\n"
      ],
      "metadata": {
        "colab": {
          "base_uri": "https://localhost:8080/"
        },
        "id": "1h0HQlq5sP_a",
        "outputId": "a608450e-a632-4a53-9c6b-d9f42d66c071"
      },
      "execution_count": 25,
      "outputs": [
        {
          "output_type": "stream",
          "name": "stdout",
          "text": [
            "[1, 2, 3] (4, 5, 6) {'a': 1, 'b': 2}\n"
          ]
        }
      ]
    },
    {
      "cell_type": "code",
      "source": [
        "\n",
        "# 27\n",
        "import random\n",
        "lst = random.sample(range(1, 101), 5)\n",
        "lst.sort()\n",
        "print(lst)"
      ],
      "metadata": {
        "colab": {
          "base_uri": "https://localhost:8080/"
        },
        "id": "mexSng6SsP8n",
        "outputId": "e7b43545-2c49-4689-f52c-4b703c02cc86"
      },
      "execution_count": 26,
      "outputs": [
        {
          "output_type": "stream",
          "name": "stdout",
          "text": [
            "[18, 20, 54, 70, 88]\n"
          ]
        }
      ]
    },
    {
      "cell_type": "code",
      "source": [
        "# 28\n",
        "lst = ['apple', 'banana', 'cherry', 'date']\n",
        "print(lst[3])\n",
        "\n"
      ],
      "metadata": {
        "colab": {
          "base_uri": "https://localhost:8080/"
        },
        "id": "O8yQths1sP5t",
        "outputId": "1d2c5d29-9419-4bdf-f3b0-7e3b63843b23"
      },
      "execution_count": 27,
      "outputs": [
        {
          "output_type": "stream",
          "name": "stdout",
          "text": [
            "date\n"
          ]
        }
      ]
    },
    {
      "cell_type": "code",
      "source": [
        "# 29\n",
        "d1 = {'a': 1, 'b': 2}\n",
        "d2 = {'c': 3, 'd': 4}\n",
        "d1.update(d2)\n",
        "print(d1)\n"
      ],
      "metadata": {
        "colab": {
          "base_uri": "https://localhost:8080/"
        },
        "id": "qCFHobqVsP2w",
        "outputId": "43e3ac90-e260-408e-b01a-8f316bb1a778"
      },
      "execution_count": 28,
      "outputs": [
        {
          "output_type": "stream",
          "name": "stdout",
          "text": [
            "{'a': 1, 'b': 2, 'c': 3, 'd': 4}\n"
          ]
        }
      ]
    },
    {
      "cell_type": "code",
      "source": [],
      "metadata": {
        "id": "lTtOITGdsPzr"
      },
      "execution_count": null,
      "outputs": []
    },
    {
      "cell_type": "code",
      "source": [],
      "metadata": {
        "id": "PBReWjsGsPww"
      },
      "execution_count": null,
      "outputs": []
    },
    {
      "cell_type": "code",
      "source": [],
      "metadata": {
        "id": "BKc6PahIsPt6"
      },
      "execution_count": null,
      "outputs": []
    },
    {
      "cell_type": "code",
      "source": [],
      "metadata": {
        "id": "6LAb8zJXsPod"
      },
      "execution_count": null,
      "outputs": []
    },
    {
      "cell_type": "code",
      "source": [],
      "metadata": {
        "id": "FuVBCPVisPk0"
      },
      "execution_count": null,
      "outputs": []
    },
    {
      "cell_type": "code",
      "source": [],
      "metadata": {
        "id": "NGp9thRasPh0"
      },
      "execution_count": null,
      "outputs": []
    },
    {
      "cell_type": "code",
      "source": [],
      "metadata": {
        "id": "ol72wFg4sPfD"
      },
      "execution_count": null,
      "outputs": []
    },
    {
      "cell_type": "code",
      "source": [],
      "metadata": {
        "id": "20Ac9o2tsPcQ"
      },
      "execution_count": null,
      "outputs": []
    },
    {
      "cell_type": "code",
      "source": [],
      "metadata": {
        "id": "w81iduGLsPZX"
      },
      "execution_count": null,
      "outputs": []
    },
    {
      "cell_type": "code",
      "source": [],
      "metadata": {
        "id": "WNh845sKsPKl"
      },
      "execution_count": null,
      "outputs": []
    },
    {
      "cell_type": "code",
      "source": [],
      "metadata": {
        "id": "74t2_Eg6sPHO"
      },
      "execution_count": null,
      "outputs": []
    }
  ]
}