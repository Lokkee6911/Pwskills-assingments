{
  "nbformat": 4,
  "nbformat_minor": 0,
  "metadata": {
    "colab": {
      "provenance": [],
      "authorship_tag": "ABX9TyP49eK7mYnXp1EKQa/asRy/",
      "include_colab_link": true
    },
    "kernelspec": {
      "name": "python3",
      "display_name": "Python 3"
    },
    "language_info": {
      "name": "python"
    }
  },
  "cells": [
    {
      "cell_type": "markdown",
      "metadata": {
        "id": "view-in-github",
        "colab_type": "text"
      },
      "source": [
        "<a href=\"https://colab.research.google.com/github/Lokkee6911/Pwskills-assingments/blob/main/lokesh_oops_test.ipynb\" target=\"_parent\"><img src=\"https://colab.research.google.com/assets/colab-badge.svg\" alt=\"Open In Colab\"/></a>"
      ]
    },
    {
      "cell_type": "code",
      "execution_count": null,
      "metadata": {
        "id": "p4s6FT9CuE7N"
      },
      "outputs": [],
      "source": []
    },
    {
      "cell_type": "markdown",
      "source": [
        "\n",
        "\n",
        "#1. What is Object-Oriented Programming (OOP)?\n",
        "\"\"\"OOP is a programming paradigm that uses objects and classes for structuring code. It promotes reusability, scalability, and maintainability by bundling data and the methods that operate on them into a single unit called an object.\"\"\"\n"
      ],
      "metadata": {
        "id": "eBnbgYUFyUJ3"
      }
    },
    {
      "cell_type": "markdown",
      "source": [
        "\n",
        "#2. What is a class in OOP?\n",
        "\"\"\"A class is a blueprint for creating objects. It defines the structure and behaviors (attributes and methods) that the created objects will have.\"\"\"\n"
      ],
      "metadata": {
        "id": "aj7jrHQWyUTD"
      }
    },
    {
      "cell_type": "markdown",
      "source": [
        "\n",
        "#3. What is an object in OOP?\n",
        "\"\"\"An object is an instance of a class. It contains real values and can access the methods and attributes defined in the class.\"\"\"\n"
      ],
      "metadata": {
        "id": "Bz2GxqXVyUV7"
      }
    },
    {
      "cell_type": "markdown",
      "source": [
        "\n",
        "#4. What is the difference between abstraction and encapsulation?\n",
        "\"\"\"Abstraction hides complex implementation details and shows only essential features. Encapsulation restricts direct access to some of an object's components to protect the internal state.\"\"\"\n"
      ],
      "metadata": {
        "id": "E4_2Gt4cyUY3"
      }
    },
    {
      "cell_type": "markdown",
      "source": [
        "\n",
        "#5. What are dunder methods in Python?\n",
        "\"\"\"Dunder (double underscore) methods are special methods in Python like __init__, __str__, __repr__ that start and end with double underscores. They enable operator overloading and customization of class behavior.\"\"\"\n"
      ],
      "metadata": {
        "id": "EhtP7JJVyUb4"
      }
    },
    {
      "cell_type": "markdown",
      "source": [
        "\n",
        "#6. Explain the concept of inheritance in OOP.\n",
        "'''Inheritance allows a class (child) to inherit attributes and methods from another class (parent), promoting code reuse and hierarchical classification.'''"
      ],
      "metadata": {
        "id": "DlVEMNTgyUem"
      }
    },
    {
      "cell_type": "markdown",
      "source": [
        "#7. What is polymorphism in OOP?\n",
        "'''Polymorphism allows different classes to be treated as instances of the same class through a common interface. It allows functions to use entities of different types at different times.'''\n"
      ],
      "metadata": {
        "id": "HG80wYkvyUhz"
      }
    },
    {
      "cell_type": "markdown",
      "source": [
        "\n",
        "#8. How is encapsulation achieved in Python?\n",
        "'''Encapsulation is achieved using private variables and methods, typically by prefixing them with an underscore (e.g., _variable) or double underscore (__variable).'''\n"
      ],
      "metadata": {
        "id": "AsJlT5hSyUk9"
      }
    },
    {
      "cell_type": "markdown",
      "source": [
        "\n",
        "#9. What is a constructor in Python?\n",
        "'''A constructor is a special method (__init__) automatically called when an object is created. It initializes the object with values.'''\n"
      ],
      "metadata": {
        "id": "yeAOw0mnyUoO"
      }
    },
    {
      "cell_type": "markdown",
      "source": [
        "\n",
        "#10. What are class and static methods in Python?\n",
        "'''Class methods use the @classmethod decorator and take cls as the first argument. Static methods use the @ static method decorator and don't take self or cls. They belong to the class, not instances.'''\n"
      ],
      "metadata": {
        "id": "9LHGOCEGyUq6"
      }
    },
    {
      "cell_type": "markdown",
      "source": [
        "\n",
        "#11. What is method overloading in Python?\n",
        "'''Python doesn’t support method overloading like other languages. However, it can be mimicked using default arguments or variable-length arguments.'''\n"
      ],
      "metadata": {
        "id": "8PwJi0cTyUuE"
      }
    },
    {
      "cell_type": "markdown",
      "source": [
        "\n",
        "#12. What is method overriding in OOP?\n",
        "'''Method overriding is redefining a parent class method in a child class with the same signature to change its behavior.'''\n"
      ],
      "metadata": {
        "id": "2wB2ejMLyUxJ"
      }
    },
    {
      "cell_type": "markdown",
      "source": [
        "\n",
        "#13. What is a property decorator in Python?\n",
        "'''The property decorator is used to turn a method into a read-only attribute. It allows getter/setter functionality in an elegant way.'''\n"
      ],
      "metadata": {
        "id": "fPupNx9myU0T"
      }
    },
    {
      "cell_type": "markdown",
      "source": [
        "\n",
        "#14. Why is polymorphism important in OOP?\n",
        "'''Polymorphism provides flexibility in code, allowing functions and methods to use objects of different types seamlessly, improving code scalability.'''\n"
      ],
      "metadata": {
        "id": "l4UhxD9_yU3f"
      }
    },
    {
      "cell_type": "markdown",
      "source": [
        "\n",
        "#15. What is an abstract class in Python?\n",
        "'''An abstract class in Python is a class that cannot be instantiated and typically includes one or more abstract methods. Defined using the abc module.'''\n"
      ],
      "metadata": {
        "id": "De6FAPOPyU6p"
      }
    },
    {
      "cell_type": "markdown",
      "source": [
        "\n",
        "#16. What are the advantages of OOP?\n",
        "'''\n",
        "Modularity\n",
        "\n",
        "Code reusability\n",
        "\n",
        "Scalability\n",
        "\n",
        "Maintainability\n",
        "\n",
        "Easier debugging'''\n"
      ],
      "metadata": {
        "id": "M6aTI03lyU9j"
      }
    },
    {
      "cell_type": "markdown",
      "source": [
        "\n",
        "#17. What is the difference between a class variable and an instance variable?\n",
        "'''Class variables are shared across all instances of the class. Instance variables are unique to each object.'''"
      ],
      "metadata": {
        "id": "1alYAevzyVAQ"
      }
    },
    {
      "cell_type": "markdown",
      "source": [
        "#18. What is multiple inheritance in Python?\n",
        "'''Multiple inheritance is when a class inherits from more than one parent class. Python supports this.'''\n"
      ],
      "metadata": {
        "id": "EW50ASnjyVCx"
      }
    },
    {
      "cell_type": "markdown",
      "source": [
        "\n",
        "#19. Explain the purpose of __str__ and __repr__ methods in Python.\n",
        "'''\n",
        "__str__ returns a human-readable string of the object.\n",
        "\n",
        "__repr__ returns an official string representation of the object for debugging.'''\n"
      ],
      "metadata": {
        "id": "3jYyzAu7yVFu"
      }
    },
    {
      "cell_type": "markdown",
      "source": [
        "\n",
        "#20. What is the significance of the super() function in Python?\n",
        "'''The super() function is used to call the methods of the parent class from the child class, useful in inheritance.'''\n"
      ],
      "metadata": {
        "id": "SQIR_279yVIg"
      }
    },
    {
      "cell_type": "markdown",
      "source": [
        "\n",
        "#21. What is the significance of the __del__ method in Python?\n",
        "'''The __del__ method is called when an object is about to be destroyed, typically used to release resources.'''\n"
      ],
      "metadata": {
        "id": "GzwpK0KayVLh"
      }
    },
    {
      "cell_type": "markdown",
      "source": [
        "\n",
        "#22. What is the difference between @staticmethod and @classmethod in Python?\n",
        "'''\n",
        "@staticmethod: Doesn’t take self or cls. Acts like a regular function inside a class.\n",
        "\n",
        "@classmethod: Takes cls and can access/modify class state.\n",
        "'''"
      ],
      "metadata": {
        "id": "CvmZleqWyVOj"
      }
    },
    {
      "cell_type": "markdown",
      "source": [
        "\n",
        "#23. How does polymorphism work in Python with inheritance?\n",
        "'''Through method overriding and dynamic method resolution. Child classes can override methods, and Python will resolve calls at runtime.'''\n"
      ],
      "metadata": {
        "id": "dlK-T1HoyVRW"
      }
    },
    {
      "cell_type": "markdown",
      "source": [
        "\n",
        "#24. What is method chaining in Python OOP?\n",
        "'''Method chaining is calling multiple methods on the same object in a single line by returning self from methods.'''\n",
        "\n"
      ],
      "metadata": {
        "id": "iLAVid8-yVUI"
      }
    },
    {
      "cell_type": "markdown",
      "source": [
        "\n",
        "#25. What is the purpose of the __call__ method in Python?\n",
        "'''It allows an object to be called like a function.'''\n"
      ],
      "metadata": {
        "id": "H_lkTnDMyVXF"
      }
    },
    {
      "cell_type": "markdown",
      "source": [
        "##Practical Questions"
      ],
      "metadata": {
        "id": "1128toQQyVZ6"
      }
    },
    {
      "cell_type": "code",
      "source": [
        "class Animal:\n",
        "    def speak(self):\n",
        "        print(\"Some generic animal sound\")\n",
        "\n",
        "class Dog(Animal):\n",
        "    def speak(self):\n",
        "        print(\"Bark!\")\n",
        "\n",
        "dog = Dog()\n",
        "dog.speak()\n"
      ],
      "metadata": {
        "colab": {
          "base_uri": "https://localhost:8080/"
        },
        "id": "GjY6I2F44DI9",
        "outputId": "356cdc36-9736-4722-8aab-30afc93fe86f"
      },
      "execution_count": 1,
      "outputs": [
        {
          "output_type": "stream",
          "name": "stdout",
          "text": [
            "Bark!\n"
          ]
        }
      ]
    },
    {
      "cell_type": "code",
      "source": [
        "from abc import ABC, abstractmethod\n",
        "\n",
        "class Shape(ABC):\n",
        "    @abstractmethod\n",
        "    def area(self):\n",
        "        pass\n",
        "\n",
        "class Circle(Shape):\n",
        "    def __init__(self, radius):\n",
        "        self.radius = radius\n",
        "\n",
        "    def area(self):\n",
        "        return 3.14 * self.radius * self.radius\n",
        "\n",
        "class Rectangle(Shape):\n",
        "    def __init__(self, length, width):\n",
        "        self.length = length\n",
        "        self.width = width\n",
        "\n",
        "    def area(self):\n",
        "        return self.length * self.width\n",
        "\n",
        "c = Circle(5)\n",
        "r = Rectangle(4, 6)\n",
        "print(\"Circle Area:\", c.area())\n",
        "print(\"Rectangle Area:\", r.area())\n"
      ],
      "metadata": {
        "colab": {
          "base_uri": "https://localhost:8080/"
        },
        "id": "2138U_Pr4dz_",
        "outputId": "b7866d46-380a-4030-d1f6-bf8ccdee3ffc"
      },
      "execution_count": 2,
      "outputs": [
        {
          "output_type": "stream",
          "name": "stdout",
          "text": [
            "Circle Area: 78.5\n",
            "Rectangle Area: 24\n"
          ]
        }
      ]
    },
    {
      "cell_type": "code",
      "source": [
        "class Vehicle:\n",
        "    def __init__(self, type):\n",
        "        self.type = type\n",
        "\n",
        "class Car(Vehicle):\n",
        "    def __init__(self, type, brand):\n",
        "        super().__init__(type)\n",
        "        self.brand = brand\n",
        "\n",
        "class ElectricCar(Car):\n",
        "    def __init__(self, type, brand, battery):\n",
        "        super().__init__(type, brand)\n",
        "        self.battery = battery\n",
        "\n",
        "e_car = ElectricCar(\"Electric\", \"Tesla\", \"100 kWh\")\n",
        "print(e_car.type, e_car.brand, e_car.battery)\n"
      ],
      "metadata": {
        "colab": {
          "base_uri": "https://localhost:8080/"
        },
        "id": "FWZCZeyW4eVe",
        "outputId": "347f0de5-5658-4b2e-c67b-0f0a258f28f9"
      },
      "execution_count": 3,
      "outputs": [
        {
          "output_type": "stream",
          "name": "stdout",
          "text": [
            "Electric Tesla 100 kWh\n"
          ]
        }
      ]
    },
    {
      "cell_type": "code",
      "source": [
        "class Bird:\n",
        "    def fly(self):\n",
        "        print(\"Some bird is flying\")\n",
        "\n",
        "class Sparrow(Bird):\n",
        "    def fly(self):\n",
        "        print(\"Sparrow flies high\")\n",
        "\n",
        "class Penguin(Bird):\n",
        "    def fly(self):\n",
        "        print(\"Penguins can't fly\")\n",
        "\n",
        "birds = [Sparrow(), Penguin()]\n",
        "for bird in birds:\n",
        "    bird.fly()\n"
      ],
      "metadata": {
        "colab": {
          "base_uri": "https://localhost:8080/"
        },
        "id": "dh6NPoVD45Un",
        "outputId": "68b7283b-a7af-4569-f966-ec522b28926d"
      },
      "execution_count": 4,
      "outputs": [
        {
          "output_type": "stream",
          "name": "stdout",
          "text": [
            "Sparrow flies high\n",
            "Penguins can't fly\n"
          ]
        }
      ]
    },
    {
      "cell_type": "code",
      "source": [
        "class BankAccount:\n",
        "    def __init__(self, balance=0):\n",
        "        self.__balance = balance\n",
        "\n",
        "    def deposit(self, amount):\n",
        "        self.__balance += amount\n",
        "\n",
        "    def withdraw(self, amount):\n",
        "        if amount <= self.__balance:\n",
        "            self.__balance -= amount\n",
        "        else:\n",
        "            print(\"Insufficient balance\")\n",
        "\n",
        "    def check_balance(self):\n",
        "        return self.__balance\n",
        "\n",
        "acc = BankAccount()\n",
        "acc.deposit(1000)\n",
        "acc.withdraw(300)\n",
        "print(\"Balance:\", acc.check_balance())\n"
      ],
      "metadata": {
        "colab": {
          "base_uri": "https://localhost:8080/"
        },
        "id": "sPlmttqQ4-a1",
        "outputId": "7210f14d-5737-44c4-a142-c25ed5b0ec96"
      },
      "execution_count": 5,
      "outputs": [
        {
          "output_type": "stream",
          "name": "stdout",
          "text": [
            "Balance: 700\n"
          ]
        }
      ]
    },
    {
      "cell_type": "code",
      "source": [
        "class Instrument:\n",
        "    def play(self):\n",
        "        print(\"Playing an instrument\")\n",
        "\n",
        "class Guitar(Instrument):\n",
        "    def play(self):\n",
        "        print(\"Strumming the guitar\")\n",
        "\n",
        "class Piano(Instrument):\n",
        "    def play(self):\n",
        "        print(\"Playing the piano\")\n",
        "\n",
        "for instrument in [Guitar(), Piano()]:\n",
        "    instrument.play()\n"
      ],
      "metadata": {
        "colab": {
          "base_uri": "https://localhost:8080/"
        },
        "id": "I6vVljWl5Ctn",
        "outputId": "5fe22583-5f5f-402f-ef47-1f0c33e1bbc1"
      },
      "execution_count": 6,
      "outputs": [
        {
          "output_type": "stream",
          "name": "stdout",
          "text": [
            "Strumming the guitar\n",
            "Playing the piano\n"
          ]
        }
      ]
    },
    {
      "cell_type": "code",
      "source": [
        "class MathOperations:\n",
        "    @classmethod\n",
        "    def add_numbers(cls, a, b):\n",
        "        return a + b\n",
        "\n",
        "    @staticmethod\n",
        "    def subtract_numbers(a, b):\n",
        "        return a - b\n",
        "\n",
        "print(\"Addition:\", MathOperations.add_numbers(10, 5))\n",
        "print(\"Subtraction:\", MathOperations.subtract_numbers(10, 5))\n"
      ],
      "metadata": {
        "colab": {
          "base_uri": "https://localhost:8080/"
        },
        "id": "pBZ_belY5HI2",
        "outputId": "9e0310ac-e4ad-407b-dd01-fdec4dc2fa10"
      },
      "execution_count": 7,
      "outputs": [
        {
          "output_type": "stream",
          "name": "stdout",
          "text": [
            "Addition: 15\n",
            "Subtraction: 5\n"
          ]
        }
      ]
    },
    {
      "cell_type": "code",
      "source": [
        "class Person:\n",
        "    count = 0\n",
        "\n",
        "    def __init__(self, name):\n",
        "        self.name = name\n",
        "        Person.count += 1\n",
        "\n",
        "    @classmethod\n",
        "    def get_count(cls):\n",
        "        return cls.count\n",
        "\n",
        "p1 = Person(\"Luki\")\n",
        "p2 = Person(\"Shivam\")\n",
        "print(\"Total Persons:\", Person.get_count())\n"
      ],
      "metadata": {
        "colab": {
          "base_uri": "https://localhost:8080/"
        },
        "id": "sZndJS5a5KEj",
        "outputId": "88468f2d-4b42-4b16-bd4d-bf645b7cb293"
      },
      "execution_count": 8,
      "outputs": [
        {
          "output_type": "stream",
          "name": "stdout",
          "text": [
            "Total Persons: 2\n"
          ]
        }
      ]
    },
    {
      "cell_type": "code",
      "source": [
        "class Fraction:\n",
        "    def __init__(self, numerator, denominator):\n",
        "        self.numerator = numerator\n",
        "        self.denominator = denominator\n",
        "\n",
        "    def __str__(self):\n",
        "        return f\"{self.numerator}/{self.denominator}\"\n",
        "\n",
        "f = Fraction(3, 4)\n",
        "print(f)\n"
      ],
      "metadata": {
        "colab": {
          "base_uri": "https://localhost:8080/"
        },
        "id": "Pi7BGBgK5Ovm",
        "outputId": "98ecd52a-2e08-4cb5-cc25-f2ada9a27cff"
      },
      "execution_count": 9,
      "outputs": [
        {
          "output_type": "stream",
          "name": "stdout",
          "text": [
            "3/4\n"
          ]
        }
      ]
    },
    {
      "cell_type": "code",
      "source": [
        "class Vector:\n",
        "    def __init__(self, x, y):\n",
        "        self.x = x\n",
        "        self.y = y\n",
        "\n",
        "    def __add__(self, other):\n",
        "        return Vector(self.x + other.x, self.y + other.y)\n",
        "\n",
        "    def __str__(self):\n",
        "        return f\"Vector({self.x}, {self.y})\"\n",
        "\n",
        "v1 = Vector(2, 3)\n",
        "v2 = Vector(4, 5)\n",
        "print(v1 + v2)\n"
      ],
      "metadata": {
        "colab": {
          "base_uri": "https://localhost:8080/"
        },
        "id": "jhtcQkyL5Q45",
        "outputId": "279b301f-b065-4769-e90f-148054cab464"
      },
      "execution_count": 10,
      "outputs": [
        {
          "output_type": "stream",
          "name": "stdout",
          "text": [
            "Vector(6, 8)\n"
          ]
        }
      ]
    },
    {
      "cell_type": "code",
      "source": [
        "class Person:\n",
        "    def __init__(self, name, age):\n",
        "        self.name = name\n",
        "        self.age = age\n",
        "\n",
        "    def greet(self):\n",
        "        print(f\"Hello, my name is {self.name} and I am {self.age} years old.\")\n",
        "\n",
        "p = Person(\"Luki\", 26)\n",
        "p.greet()\n"
      ],
      "metadata": {
        "colab": {
          "base_uri": "https://localhost:8080/"
        },
        "id": "V7JQnjMS5TXd",
        "outputId": "59dd2ad6-5bc3-40bc-b690-e2d8caaabf3d"
      },
      "execution_count": 11,
      "outputs": [
        {
          "output_type": "stream",
          "name": "stdout",
          "text": [
            "Hello, my name is Luki and I am 26 years old.\n"
          ]
        }
      ]
    },
    {
      "cell_type": "code",
      "source": [
        "class Student:\n",
        "    def __init__(self, name, grades):\n",
        "        self.name = name\n",
        "        self.grades = grades\n",
        "\n",
        "    def average_grade(self):\n",
        "        return sum(self.grades) / len(self.grades)\n",
        "\n",
        "s = Student(\"Luki\", [85, 90, 78])\n",
        "print(\"Average Grade:\", s.average_grade())\n"
      ],
      "metadata": {
        "colab": {
          "base_uri": "https://localhost:8080/"
        },
        "id": "bSe0Rkgq5VtT",
        "outputId": "1bc2d1f9-838f-475f-c9b3-092d2bd25255"
      },
      "execution_count": 12,
      "outputs": [
        {
          "output_type": "stream",
          "name": "stdout",
          "text": [
            "Average Grade: 84.33333333333333\n"
          ]
        }
      ]
    },
    {
      "cell_type": "code",
      "source": [
        "class Rectangle:\n",
        "    def set_dimensions(self, length, width):\n",
        "        self.length = length\n",
        "        self.width = width\n",
        "\n",
        "    def area(self):\n",
        "        return self.length * self.width\n",
        "\n",
        "r = Rectangle()\n",
        "r.set_dimensions(5, 4)\n",
        "print(\"Area:\", r.area())\n"
      ],
      "metadata": {
        "colab": {
          "base_uri": "https://localhost:8080/"
        },
        "id": "WnvZzHxr5Ydh",
        "outputId": "3601cd6b-ce94-4137-8b90-c1f5cfd534f4"
      },
      "execution_count": 13,
      "outputs": [
        {
          "output_type": "stream",
          "name": "stdout",
          "text": [
            "Area: 20\n"
          ]
        }
      ]
    },
    {
      "cell_type": "code",
      "source": [
        "class Employee:\n",
        "    def calculate_salary(self, hours, rate):\n",
        "        return hours * rate\n",
        "\n",
        "class Manager(Employee):\n",
        "    def calculate_salary(self, hours, rate, bonus):\n",
        "        return super().calculate_salary(hours, rate) + bonus\n",
        "\n",
        "m = Manager()\n",
        "print(\"Manager Salary:\", m.calculate_salary(40, 500, 2000))\n"
      ],
      "metadata": {
        "colab": {
          "base_uri": "https://localhost:8080/"
        },
        "id": "aPWJlGZW5b1G",
        "outputId": "91ba9234-02ea-4915-f662-c2c9713e1599"
      },
      "execution_count": 14,
      "outputs": [
        {
          "output_type": "stream",
          "name": "stdout",
          "text": [
            "Manager Salary: 22000\n"
          ]
        }
      ]
    },
    {
      "cell_type": "code",
      "source": [
        "class Product:\n",
        "    def __init__(self, name, price, quantity):\n",
        "        self.name = name\n",
        "        self.price = price\n",
        "        self.quantity = quantity\n",
        "\n",
        "    def total_price(self):\n",
        "        return self.price * self.quantity\n",
        "\n",
        "p = Product(\"Laptop\", 50000, 2)\n",
        "print(\"Total Price:\", p.total_price())\n"
      ],
      "metadata": {
        "colab": {
          "base_uri": "https://localhost:8080/"
        },
        "id": "nie3NAsS5f46",
        "outputId": "2964dedf-2382-40a8-cdf6-131b01b343e3"
      },
      "execution_count": 15,
      "outputs": [
        {
          "output_type": "stream",
          "name": "stdout",
          "text": [
            "Total Price: 100000\n"
          ]
        }
      ]
    },
    {
      "cell_type": "code",
      "source": [
        "from abc import ABC, abstractmethod\n",
        "\n",
        "class Animal(ABC):\n",
        "    @abstractmethod\n",
        "    def sound(self):\n",
        "        pass\n",
        "\n",
        "class Cow(Animal):\n",
        "    def sound(self):\n",
        "        print(\"Moo\")\n",
        "\n",
        "class Sheep(Animal):\n",
        "    def sound(self):\n",
        "        print(\"Baa\")\n",
        "\n",
        "Cow().sound()\n",
        "Sheep().sound()\n"
      ],
      "metadata": {
        "colab": {
          "base_uri": "https://localhost:8080/"
        },
        "id": "JE4ljicx5iOH",
        "outputId": "cc593262-616b-4356-8e04-243adf1010dd"
      },
      "execution_count": 16,
      "outputs": [
        {
          "output_type": "stream",
          "name": "stdout",
          "text": [
            "Moo\n",
            "Baa\n"
          ]
        }
      ]
    },
    {
      "cell_type": "code",
      "source": [
        "class Book:\n",
        "    def __init__(self, title, author, year_published):\n",
        "        self.title = title\n",
        "        self.author = author\n",
        "        self.year_published = year_published\n",
        "\n",
        "    def get_book_info(self):\n",
        "        return f\"{self.title} by {self.author}, published in {self.year_published}\"\n",
        "\n",
        "b = Book(\"Rich Dad Poor Dad\", \"Robert Kiyosaki\", 1997)\n",
        "print(b.get_book_info())\n"
      ],
      "metadata": {
        "colab": {
          "base_uri": "https://localhost:8080/"
        },
        "id": "R1mLm3rW5lCw",
        "outputId": "f8ae974a-2fd4-4912-a433-ff0c10dc0b29"
      },
      "execution_count": 17,
      "outputs": [
        {
          "output_type": "stream",
          "name": "stdout",
          "text": [
            "Rich Dad Poor Dad by Robert Kiyosaki, published in 1997\n"
          ]
        }
      ]
    },
    {
      "cell_type": "code",
      "source": [
        "class House:\n",
        "    def __init__(self, address, price):\n",
        "        self.address = address\n",
        "        self.price = price\n",
        "\n",
        "class Mansion(House):\n",
        "    def __init__(self, address, price, number_of_rooms):\n",
        "        super().__init__(address, price)\n",
        "        self.number_of_rooms = number_of_rooms\n",
        "\n",
        "m = Mansion(\"Gurgaon\", 50000000, 12)\n",
        "print(m.address, m.price, m.number_of_rooms)\n"
      ],
      "metadata": {
        "colab": {
          "base_uri": "https://localhost:8080/"
        },
        "id": "ApthVPvj5tXu",
        "outputId": "a9b2ddd9-54b0-4320-92c4-e124c300f5f2"
      },
      "execution_count": 18,
      "outputs": [
        {
          "output_type": "stream",
          "name": "stdout",
          "text": [
            "Gurgaon 50000000 12\n"
          ]
        }
      ]
    },
    {
      "cell_type": "code",
      "source": [],
      "metadata": {
        "id": "Pua3jYVy5wfz"
      },
      "execution_count": null,
      "outputs": []
    }
  ]
}